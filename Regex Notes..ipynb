{
 "cells": [
  {
   "cell_type": "markdown",
   "id": "a0eb3b26",
   "metadata": {},
   "source": [
    "# <center> Python Regex Functions</center>"
   ]
  },
  {
   "cell_type": "markdown",
   "id": "a769693a",
   "metadata": {},
   "source": [
    "|S.No | Function & inputs  | Output    | Description |\n",
    "|---:|:-------------|:-----------|:-----------|\n",
    "| 1 | finditer(pattern, string, flags=0)  | Iterator with match objects       | For each match, Iterator returns a match object |\n",
    "| 2 | fullmatch(pattern, string, flags=0)  | Match Object (or) None    | Tries to apply pattern to all of the string |\n",
    "| 3 | match(pattern, string, flags=0)  | Match Object (or) None    | Tries to apply pattern at the start of the string |\n",
    "| 4 | search(pattern, string, flags=0)  | Match Object (or) None    | Scans through string looking for a match |\n",
    "| 5 | compile(pattern, flags=0)  | Pattern Object       | Compiles Regex Pattern. |\n",
    "| 6 | template(pattern, flags=0)  | Pattern Object   | Compiles Template Pattern. |\n",
    "| 7 | findall(pattern, string, flags=0)  | List       | Non-overlapping matches of a string |\n",
    "| 8 | split(pattern, string, maxsplit=0, flags=0)  | List   | Split string by occurence of pattern |\n",
    "| 9 | escape(pattern)  | string   | Escape special characters in a string. |\n",
    "| 10 | sub(pattern, repl, string, count=0, flags=0)  | string   | Replaces pattern with repl in the given string |\n",
    "| 11 | subn(pattern, repl, string, count=0, flags=0)  | 2-tuple   | Replaces pattern with repl in the given string, No. of Substitutions |\n",
    "| 12| purge() | NA | clears the regex cache |"
   ]
  },
  {
   "cell_type": "markdown",
   "id": "5b7ad636",
   "metadata": {},
   "source": [
    "### 1. \"finditer\" Example\n",
    "    \n",
    "For a given text, find the vowels that are present in it and provide their positions in the text. "
   ]
  },
  {
   "cell_type": "code",
   "execution_count": 9,
   "id": "69c61e4f",
   "metadata": {},
   "outputs": [
    {
     "name": "stdout",
     "output_type": "stream",
     "text": [
      "<class 'callable_iterator'>\n",
      "e (1, 2)\n",
      "e (3, 4)\n",
      "i (5, 6)\n",
      "a (8, 9)\n",
      "a (11, 12)\n",
      "e (15, 16)\n",
      "e (18, 19)\n"
     ]
    }
   ],
   "source": [
    "import re\n",
    "\n",
    "\n",
    "text = \"Here is a sample text\"\n",
    "pattern = re.compile(\"[a|e|i|o|u|A|E|I|O|U]\")\n",
    "\n",
    "result = re.finditer(pattern,text)\n",
    "\n",
    "# To see the type of result that we received from finditer operation\n",
    "print(type(result)) \n",
    "\n",
    "for match in result:\n",
    "    print(match.group(), match.span())"
   ]
  },
  {
   "cell_type": "markdown",
   "id": "03a72153",
   "metadata": {},
   "source": [
    "### 2. \"fullmatch\" Example\n",
    "    \n",
    "ISBN-10 identifiers are ten digits long. The first nine characters are digits 0-9. \n",
    "The last digit can be 0-9 or X, to indicate a value of 10.\n",
    "An ISBN-10 number is valid if the sum of the digits multiplied by their position modulo 11 equals zero.\n"
   ]
  },
  {
   "cell_type": "code",
   "execution_count": 10,
   "id": "c283bc27",
   "metadata": {},
   "outputs": [
    {
     "name": "stdout",
     "output_type": "stream",
     "text": [
      "True\n",
      "False\n"
     ]
    }
   ],
   "source": [
    "import re\n",
    "\n",
    "\n",
    "def valid_ISBN10(isbn):\n",
    "    \"\"\"Returns a Boolean Value when a string is given as input. Checks whether string qualifies as ISBN \"\"\"\n",
    "    \n",
    "    #re.fullmatch >> If the whole string matches the regular expression pattern, return a corresponding match object. \n",
    "    #Return None if the string does not match the pattern.\n",
    "    check = re.fullmatch(\"[0-9]{9}X|[0-9]{10}\", isbn)\n",
    "    \n",
    "    if not check:\n",
    "        return False\n",
    "    \n",
    "    #Returns a iterable map object of results after applying given function to each item of a \n",
    "    #given iterable (list/tuple/string etc.) \n",
    "    convert_to_int = map(lambda x: 10 if x=='X' else int(x), isbn)\n",
    "    \n",
    "    #The zip() function takes iterables (can be zero or more), aggregates them in a tuple, and return it.\n",
    "    sum_of_elements =  sum([num * position for num, position in list(zip(convert_to_int, range(1,11)))])\n",
    "    \n",
    "    return sum_of_elements % 11 == 0\n",
    "\n",
    "print(valid_ISBN10(\"048665088X\"))\n",
    "print(valid_ISBN10(\"048665088B\"))"
   ]
  },
  {
   "cell_type": "markdown",
   "id": "852932a1",
   "metadata": {},
   "source": [
    "### 3. \"match\" Example\n",
    "    \n",
    "In this example you have to validate if a user input string is alphanumeric. \n",
    "The given string is not nil/null/NULL/None, so you don't have to check that.\n",
    "\n",
    "The string has the following conditions to be alphanumeric:\n",
    "At least one character (\"\" is not valid)\n",
    "Allowed characters are uppercase / lowercase latin letters and digits from 0 to 9\n",
    "No whitespaces / underscore"
   ]
  },
  {
   "cell_type": "code",
   "execution_count": 11,
   "id": "703c5a90",
   "metadata": {},
   "outputs": [
    {
     "name": "stdout",
     "output_type": "stream",
     "text": [
      "False\n",
      "True\n"
     ]
    }
   ],
   "source": [
    "import re\n",
    "\n",
    "\n",
    "pattern = re.compile('^[0-9a-zA-Z]+$')\n",
    "\n",
    "def alphanumeric(string):\n",
    "  return pattern.match(string) is not None\n",
    "\n",
    "print(alphanumeric('ra()esh'))\n",
    "print(alphanumeric('ra12esh'))"
   ]
  },
  {
   "cell_type": "markdown",
   "id": "caa0dc08",
   "metadata": {},
   "source": [
    "### 4. \"search\" Example\n",
    "    \n",
    "In this example, use search to find the first instance of the word in given text"
   ]
  },
  {
   "cell_type": "code",
   "execution_count": 12,
   "id": "e4ac59ad",
   "metadata": {},
   "outputs": [
    {
     "name": "stdout",
     "output_type": "stream",
     "text": [
      "<re.Match object; span=(17, 21), match='text'>\n",
      "(17, 21)\n"
     ]
    }
   ],
   "source": [
    "import re\n",
    "\n",
    "\n",
    "text = \"Here is a sample text, in this text, the word text repeats 3 times\"\n",
    "pattern = re.compile(\"text\")\n",
    "\n",
    "result = re.search(pattern,text)\n",
    "\n",
    "#if we print result, we can only the match object\n",
    "print(result)\n",
    "\n",
    "#we can see start and end index (exclusive) of first instance of searched pattern.\n",
    "print(result.span())"
   ]
  },
  {
   "cell_type": "markdown",
   "id": "ebdd18f3",
   "metadata": {},
   "source": [
    "### 5. \"compile\" Example\n",
    "    \n",
    "In this example, we will see what does compile do and what it looks like."
   ]
  },
  {
   "cell_type": "code",
   "execution_count": 15,
   "id": "61fe850e",
   "metadata": {},
   "outputs": [
    {
     "name": "stdout",
     "output_type": "stream",
     "text": [
      "re.compile('demo')\n",
      "<class 're.Pattern'>\n"
     ]
    }
   ],
   "source": [
    "import re\n",
    "\n",
    "\n",
    "pattern = re.compile('demo')\n",
    "\n",
    "print(pattern)\n",
    "print(type(pattern))"
   ]
  },
  {
   "cell_type": "markdown",
   "id": "62a7f0c3",
   "metadata": {},
   "source": [
    "### 6. \"Template\" Example\n",
    "    \n",
    "In this example, we will see what does template do and what it looks like. Note that Template does what compile does, in the sense that they both return a Pattern object. I am yet to encounter a good example for using Template function."
   ]
  },
  {
   "cell_type": "code",
   "execution_count": 16,
   "id": "649c66df",
   "metadata": {},
   "outputs": [
    {
     "name": "stdout",
     "output_type": "stream",
     "text": [
      "re.compile('text', re.TEMPLATE)\n",
      "<class 're.Pattern'>\n"
     ]
    }
   ],
   "source": [
    "import re\n",
    "\n",
    "\n",
    "templatepattern = re.template('text')\n",
    "\n",
    "print(templatepattern)\n",
    "print(type(templatepattern))"
   ]
  },
  {
   "cell_type": "markdown",
   "id": "daabad8a",
   "metadata": {},
   "source": [
    "### 7. \"findall\" Example\n",
    "    \n",
    "In this example, we will find how many ipv4 addresses are present in given string.\n",
    "\n",
    "Simple regex to extract IP addresses from longer text:\n",
    "\n",
    "\\b(?:[0-9]{1,3}\\.){3}[0-9]{1,3}\\b"
   ]
  },
  {
   "cell_type": "code",
   "execution_count": 2,
   "id": "dac453bf",
   "metadata": {},
   "outputs": [
    {
     "name": "stdout",
     "output_type": "stream",
     "text": [
      "['192.168.190.235', '192.168.191.2']\n",
      "2\n"
     ]
    }
   ],
   "source": [
    "import re\n",
    "\n",
    "\n",
    "text = \"\"\"\n",
    "Router# show ip interface brief\n",
    "Interface             IP-Address      OK?    Method Status     \tProtocol\n",
    "GigabitEthernet0/1    unassigned      YES    unset  up         \tup\n",
    "GigabitEthernet0/2    192.168.190.235 YES    unset  up         \tup\n",
    "GigabitEthernet0/3    unassigned      YES    unset  up         \tup\n",
    "GigabitEthernet0/4    192.168.191.2   YES    unset  up         \tup\n",
    "TenGigabitEthernet2/1 unassigned      YES    unset  up         \tup\n",
    "\"\"\"\n",
    "pattern = re.compile(r\"\\b(?:[0-9]{1,3}\\.){3}[0-9]{1,3}\\b\")\n",
    "result = re.findall(pattern,text)\n",
    "\n",
    "print(result)\n",
    "\n",
    "#To see the number of times a pattern repeated in a given text\n",
    "print(len(result))\n"
   ]
  },
  {
   "cell_type": "markdown",
   "id": "b37b572d",
   "metadata": {},
   "source": [
    "### 8. \"split\" Example\n",
    "\n",
    "In this example, we will give a text with numbers and multiple types of special characters such as comma, hyphen and dot. we can use re.split to split on these characters, in given_string and result will be a list of strings."
   ]
  },
  {
   "cell_type": "code",
   "execution_count": 2,
   "id": "c32e09b1",
   "metadata": {},
   "outputs": [
    {
     "name": "stdout",
     "output_type": "stream",
     "text": [
      "['22', '87', '100', '49', '97', '89', '27', '00']\n"
     ]
    }
   ],
   "source": [
    "import re\n",
    "\n",
    "\n",
    "given_string = \"22,87,100,49-97-89.27.00\"\n",
    "result = re.split(r\"-|,|\\.\", given_string)\n",
    "\n",
    "print(result)"
   ]
  },
  {
   "cell_type": "markdown",
   "id": "3a731fd7",
   "metadata": {},
   "source": [
    "### 9. \"escape\" Example\n",
    "\n",
    "When the target text contains regex metacharacters (*,$,. so on) and we still want to match them with a pattern, using an escape on a pattern is the way to go. This concept is better explained with an example.\n",
    "\n",
    "As you can see below, when we do a normal pattern match the search function of regex gives the answer as None, which is wrong.\n",
    "But the escaped pattern, produces right result."
   ]
  },
  {
   "cell_type": "code",
   "execution_count": 5,
   "id": "7d13db09",
   "metadata": {},
   "outputs": [
    {
     "name": "stdout",
     "output_type": "stream",
     "text": [
      "None\n",
      "<re.Match object; span=(10, 13), match='$ow'>\n"
     ]
    }
   ],
   "source": [
    "import re\n",
    "\n",
    "\n",
    "text = \"#i there, $ow are you?\"\n",
    "pattern = re.compile(\"$ow\")\n",
    "escaped_pattern = re.escape(\"$ow\")\n",
    "\n",
    "normal_result = re.search(pattern, text)\n",
    "escaped_result = re.search(escaped_pattern, text)\n",
    "\n",
    "print(normal_result)\n",
    "print(escaped_result)"
   ]
  },
  {
   "cell_type": "markdown",
   "id": "20ee45df",
   "metadata": {},
   "source": [
    "### 10. \"sub\" Example\n",
    "\n",
    "Sub stands for substitution and with this function, we can replace any pattern in a text with a replacement string.\n"
   ]
  },
  {
   "cell_type": "code",
   "execution_count": 6,
   "id": "d3d169cc",
   "metadata": {},
   "outputs": [
    {
     "name": "stdout",
     "output_type": "stream",
     "text": [
      "We can do anything.\n"
     ]
    }
   ],
   "source": [
    "import re\n",
    "\n",
    "\n",
    "text = \"I can do anything.\"\n",
    "result = re.sub('I','We',text)\n",
    "\n",
    "print(result)"
   ]
  },
  {
   "cell_type": "markdown",
   "id": "08ecaafa",
   "metadata": {},
   "source": [
    "### 11. \"subn\" Example\n",
    "\n",
    "subn function works similar to sub, only difference is we can give count as input, which asks the functions to do substitutions 'n' times. For some reason the output of this function, gives us back the count again, along with replaced text."
   ]
  },
  {
   "cell_type": "code",
   "execution_count": 7,
   "id": "9f2349a9",
   "metadata": {},
   "outputs": [
    {
     "name": "stdout",
     "output_type": "stream",
     "text": [
      "('First HEY - Second HEY - Third HI', 2)\n"
     ]
    }
   ],
   "source": [
    "import re\n",
    "\n",
    "\n",
    "text = \"\"\"First HI - Second HI - Third HI\"\"\"\n",
    "result = re.subn('HI','HEY',text, count=2)\n",
    "\n",
    "print(result)"
   ]
  },
  {
   "cell_type": "markdown",
   "id": "6b122d51",
   "metadata": {},
   "source": [
    "### 12. \"purge()\" \n",
    "\n",
    "Most programmers dont use purge() function, as the functionality of clearing cache is done automatically by python. I saw some examples or purge() being used in testing the code. "
   ]
  },
  {
   "cell_type": "code",
   "execution_count": null,
   "id": "f1392494",
   "metadata": {},
   "outputs": [],
   "source": [
    "import re\n",
    "\n",
    "\n",
    "re.purge()"
   ]
  }
 ],
 "metadata": {
  "kernelspec": {
   "display_name": "Python 3 (ipykernel)",
   "language": "python",
   "name": "python3"
  },
  "language_info": {
   "codemirror_mode": {
    "name": "ipython",
    "version": 3
   },
   "file_extension": ".py",
   "mimetype": "text/x-python",
   "name": "python",
   "nbconvert_exporter": "python",
   "pygments_lexer": "ipython3",
   "version": "3.9.6"
  }
 },
 "nbformat": 4,
 "nbformat_minor": 5
}
